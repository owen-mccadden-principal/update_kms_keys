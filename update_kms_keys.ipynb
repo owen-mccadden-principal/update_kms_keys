{
 "cells": [
  {
   "cell_type": "code",
   "execution_count": 1,
   "id": "e33193ff",
   "metadata": {},
   "outputs": [],
   "source": [
    "import os\n",
    "import subprocess"
   ]
  },
  {
   "cell_type": "code",
   "execution_count": 3,
   "id": "ae330162",
   "metadata": {},
   "outputs": [],
   "source": [
    "buckets = [\n",
    "    'ind-nb-trans-802115549928-us-east-1/'\n",
    "]\n",
    "\n",
    "keys = [\n",
    "    'arn:aws:kms:us-east-1:802115549928:key/d7ad437e-34bc-4181-829b-57c4c27f7111'\n",
    "]"
   ]
  },
  {
   "cell_type": "code",
   "execution_count": 4,
   "id": "58da32d7",
   "metadata": {},
   "outputs": [],
   "source": [
    "def change_kms_key(buckets, keys):\n",
    "    for bucket, key in zip(buckets, keys):\n",
    "        subprocess.call(['aws', 's3', 'cp', 's3://{}'.format(bucket), 's3://{}'.format(bucket), '--recursive', '--sse-kms-key-id', key, '--sse', 'aws:kms'])"
   ]
  },
  {
   "cell_type": "code",
   "execution_count": null,
   "id": "b58aeb7d",
   "metadata": {},
   "outputs": [],
   "source": []
  }
 ],
 "metadata": {
  "kernelspec": {
   "display_name": "Python 3",
   "language": "python",
   "name": "python3"
  },
  "language_info": {
   "codemirror_mode": {
    "name": "ipython",
    "version": 3
   },
   "file_extension": ".py",
   "mimetype": "text/x-python",
   "name": "python",
   "nbconvert_exporter": "python",
   "pygments_lexer": "ipython3",
   "version": "3.9.5"
  }
 },
 "nbformat": 4,
 "nbformat_minor": 5
}
